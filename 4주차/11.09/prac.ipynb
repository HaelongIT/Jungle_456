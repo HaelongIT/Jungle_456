{
 "cells": [
  {
   "cell_type": "markdown",
   "metadata": {},
   "source": [
    "1914"
   ]
  },
  {
   "cell_type": "code",
   "execution_count": 5,
   "metadata": {},
   "outputs": [
    {
     "name": "stdout",
     "output_type": "stream",
     "text": [
      "7\n",
      "1 3\n",
      "1 2\n",
      "3 2\n",
      "1 3\n",
      "2 1\n",
      "2 3\n",
      "1 3\n"
     ]
    }
   ],
   "source": [
    "N = int(input())\n",
    "\n",
    "def hanoi(n, start, end):\n",
    "    mid = 6-start-end\n",
    "    if n == 1:\n",
    "        print(start, end)\n",
    "    else:\n",
    "        hanoi(n-1, start, mid)\n",
    "        print(start, end)\n",
    "        hanoi(n-1, mid, end)\n",
    "\n",
    "print(2**N - 1)\n",
    "hanoi(N, 1, 3)"
   ]
  }
 ],
 "metadata": {
  "kernelspec": {
   "display_name": "Python 3",
   "language": "python",
   "name": "python3"
  },
  "language_info": {
   "codemirror_mode": {
    "name": "ipython",
    "version": 3
   },
   "file_extension": ".py",
   "mimetype": "text/x-python",
   "name": "python",
   "nbconvert_exporter": "python",
   "pygments_lexer": "ipython3",
   "version": "3.11.6"
  }
 },
 "nbformat": 4,
 "nbformat_minor": 2
}
