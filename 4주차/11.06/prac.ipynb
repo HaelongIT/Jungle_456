{
 "cells": [
  {
   "cell_type": "markdown",
   "metadata": {},
   "source": [
    "큰 수"
   ]
  },
  {
   "cell_type": "code",
   "execution_count": 1,
   "metadata": {},
   "outputs": [
    {
     "name": "stdout",
     "output_type": "stream",
     "text": [
      "5 8 3\n",
      "[2, 4, 5, 4, 6]\n"
     ]
    }
   ],
   "source": [
    "N, M, K = map(int, input().split())\n",
    "data = list(map(int, input().split()))\n",
    "\n",
    "print(N, M, K)\n",
    "print(data)"
   ]
  },
  {
   "cell_type": "code",
   "execution_count": 7,
   "metadata": {},
   "outputs": [
    {
     "name": "stdout",
     "output_type": "stream",
     "text": [
      "4\n"
     ]
    },
    {
     "data": {
      "text/plain": [
       "5"
      ]
     },
     "execution_count": 7,
     "metadata": {},
     "output_type": "execute_result"
    }
   ],
   "source": [
    "print(data.pop())\n",
    "max(data)"
   ]
  },
  {
   "cell_type": "code",
   "execution_count": 14,
   "metadata": {},
   "outputs": [],
   "source": [
    "cnt = 0\n",
    "ans = 0\n",
    "# for _ in range(M):\n",
    "\n",
    "# while cnt <= M:\n",
    "#     for _ in range(K):\n",
    "#         ans += max(data)\n",
    "\n",
    "\n",
    "# cnt로 횟수를 세고\n",
    "# 리스트를 솔트하고 최댓값을 pop해서 그걸 횟수 이내로 ans에 더하기\n",
    "\n",
    "data.sort()\n",
    "# print(data)\n",
    "# print(data.pop())\n",
    "        \n",
    "for _ in range(K):\n",
    "    if cnt == M:\n",
    "        break\n",
    "    ans += max(data)\n",
    "    cnt += 1\n",
    "\n",
    "print(ans)"
   ]
  },
  {
   "cell_type": "code",
   "execution_count": 12,
   "metadata": {},
   "outputs": [
    {
     "name": "stdout",
     "output_type": "stream",
     "text": [
      "0\n"
     ]
    }
   ],
   "source": [
    "print(5%5)"
   ]
  },
  {
   "cell_type": "code",
   "execution_count": 14,
   "metadata": {},
   "outputs": [
    {
     "ename": "ZeroDivisionError",
     "evalue": "integer modulo by zero",
     "output_type": "error",
     "traceback": [
      "\u001b[1;31m---------------------------------------------------------------------------\u001b[0m",
      "\u001b[1;31mZeroDivisionError\u001b[0m                         Traceback (most recent call last)",
      "\u001b[1;32mc:\\Users\\손용재\\Desktop\\개발자\\정글\\4주차\\11.06\\prac.ipynb 셀 6\u001b[0m line \u001b[0;36m1\n\u001b[0;32m     <a href='vscode-notebook-cell:/c%3A/Users/%EC%86%90%EC%9A%A9%EC%9E%AC/Desktop/%EA%B0%9C%EB%B0%9C%EC%9E%90/%EC%A0%95%EA%B8%80/4%EC%A3%BC%EC%B0%A8/11.06/prac.ipynb#W6sZmlsZQ%3D%3D?line=13'>14</a>\u001b[0m \u001b[39msum\u001b[39m \u001b[39m=\u001b[39m \u001b[39m0\u001b[39m\n\u001b[0;32m     <a href='vscode-notebook-cell:/c%3A/Users/%EC%86%90%EC%9A%A9%EC%9E%AC/Desktop/%EA%B0%9C%EB%B0%9C%EC%9E%90/%EC%A0%95%EA%B8%80/4%EC%A3%BC%EC%B0%A8/11.06/prac.ipynb#W6sZmlsZQ%3D%3D?line=15'>16</a>\u001b[0m \u001b[39mfor\u001b[39;00m i \u001b[39min\u001b[39;00m \u001b[39mrange\u001b[39m(M):\n\u001b[1;32m---> <a href='vscode-notebook-cell:/c%3A/Users/%EC%86%90%EC%9A%A9%EC%9E%AC/Desktop/%EA%B0%9C%EB%B0%9C%EC%9E%90/%EC%A0%95%EA%B8%80/4%EC%A3%BC%EC%B0%A8/11.06/prac.ipynb#W6sZmlsZQ%3D%3D?line=16'>17</a>\u001b[0m     \u001b[39mif\u001b[39;00m M\u001b[39m%\u001b[39;49mi \u001b[39m==\u001b[39m \u001b[39m0\u001b[39m:\n\u001b[0;32m     <a href='vscode-notebook-cell:/c%3A/Users/%EC%86%90%EC%9A%A9%EC%9E%AC/Desktop/%EA%B0%9C%EB%B0%9C%EC%9E%90/%EC%A0%95%EA%B8%80/4%EC%A3%BC%EC%B0%A8/11.06/prac.ipynb#W6sZmlsZQ%3D%3D?line=17'>18</a>\u001b[0m         \u001b[39mprint\u001b[39m(\u001b[39m1\u001b[39m)\n\u001b[0;32m     <a href='vscode-notebook-cell:/c%3A/Users/%EC%86%90%EC%9A%A9%EC%9E%AC/Desktop/%EA%B0%9C%EB%B0%9C%EC%9E%90/%EC%A0%95%EA%B8%80/4%EC%A3%BC%EC%B0%A8/11.06/prac.ipynb#W6sZmlsZQ%3D%3D?line=18'>19</a>\u001b[0m     \u001b[39msum\u001b[39m \u001b[39m+\u001b[39m\u001b[39m=\u001b[39m data2[M\u001b[39m%\u001b[39mi]\n",
      "\u001b[1;31mZeroDivisionError\u001b[0m: integer modulo by zero"
     ]
    }
   ],
   "source": [
    "N, M, K = map(int, input().split())\n",
    "data = list(map(int, input().split()))\n",
    "\n",
    "data.sort()\n",
    "\n",
    "first = data.pop()\n",
    "second = data.pop()\n",
    "\n",
    "data2 = [first] * K\n",
    "data2.append(second)\n",
    "\n",
    "# print(data2)\n",
    "\n",
    "sum = 0\n",
    "\n",
    "for i in range(M):\n",
    "    if M%i == 0:\n",
    "        print(1)\n",
    "    sum += data2[M%i]\n",
    "\n",
    "print(sum)"
   ]
  },
  {
   "cell_type": "markdown",
   "metadata": {},
   "source": [
    "1. 예제 일단 손으로 풀어보기\n",
    "2. 마지막에 손 코딩 해보기\n",
    "3. 프린트로 디버깅하기\n",
    "4. 주제별로 공통점 잡아서 풀이법 꿰뚫기"
   ]
  },
  {
   "cell_type": "markdown",
   "metadata": {},
   "source": [
    "내일은 골드바흐"
   ]
  }
 ],
 "metadata": {
  "kernelspec": {
   "display_name": "Python 3",
   "language": "python",
   "name": "python3"
  },
  "language_info": {
   "codemirror_mode": {
    "name": "ipython",
    "version": 3
   },
   "file_extension": ".py",
   "mimetype": "text/x-python",
   "name": "python",
   "nbconvert_exporter": "python",
   "pygments_lexer": "ipython3",
   "version": "3.11.6"
  }
 },
 "nbformat": 4,
 "nbformat_minor": 2
}
