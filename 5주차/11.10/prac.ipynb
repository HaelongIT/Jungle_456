{
 "cells": [
  {
   "cell_type": "markdown",
   "metadata": {},
   "source": [
    "9663"
   ]
  },
  {
   "cell_type": "code",
   "execution_count": 1,
   "metadata": {},
   "outputs": [
    {
     "name": "stdout",
     "output_type": "stream",
     "text": [
      "[[True, True, True], [True, True, True], [True, True, True]]\n"
     ]
    }
   ],
   "source": [
    "# 맨위 기준으로 케이스 나누기\n",
    "# 내려가면서 계속 분기 나뉘기\n",
    "\n",
    "n = int(input())\n",
    "\n",
    "data = [[True]*n for i in range(n)]\n",
    "\n",
    "# print(data)\n",
    "\n",
    "for j in range(n):\n",
    "    for k in range(n):\n",
    "        if data[n][n] == True:\n",
    "            # 상하좌우 대각선 모두 False로 바꾸고 싶음\n",
    "            # 일단 True 나오면 재귀로 들어가서 상하좌우 대각선 모두 False로 만들고\n",
    "            # 또 True 만나면 재귀로 들어가서 최종적으로 마지막 줄에 찍히면 count +1 하는식으로 리턴 찍히기\n",
    "            \n",
    "def nq(n):\n",
    "    \n"
   ]
  }
 ],
 "metadata": {
  "kernelspec": {
   "display_name": "Python 3",
   "language": "python",
   "name": "python3"
  },
  "language_info": {
   "codemirror_mode": {
    "name": "ipython",
    "version": 3
   },
   "file_extension": ".py",
   "mimetype": "text/x-python",
   "name": "python",
   "nbconvert_exporter": "python",
   "pygments_lexer": "ipython3",
   "version": "3.11.6"
  }
 },
 "nbformat": 4,
 "nbformat_minor": 2
}
