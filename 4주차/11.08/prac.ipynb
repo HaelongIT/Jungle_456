{
 "cells": [
  {
   "cell_type": "code",
   "execution_count": 2,
   "metadata": {},
   "outputs": [
    {
     "data": {
      "text/plain": [
       "3"
      ]
     },
     "execution_count": 2,
     "metadata": {},
     "output_type": "execute_result"
    }
   ],
   "source": [
    "7//2"
   ]
  },
  {
   "cell_type": "code",
   "execution_count": 3,
   "metadata": {},
   "outputs": [
    {
     "name": "stdout",
     "output_type": "stream",
     "text": [
      "3 5\n",
      "5 5\n",
      "5 11\n"
     ]
    }
   ],
   "source": [
    "def Goldbach():\n",
    "    check = [False, False] + [True] * 10000\n",
    "    \n",
    "    for i in range(2, 101):\n",
    "        if check[i] == True:\n",
    "            for j in range(i + i, 10001, i):\n",
    "                check[j] = False\n",
    "\n",
    "    T = int(input())\n",
    "    for _ in range(T):\n",
    "        n = int(input())\n",
    "\n",
    "        A = n // 2\n",
    "        B = A\n",
    "        for _ in range(10000):\n",
    "            if check[A] and check[B]:\n",
    "                print(A, B)\n",
    "                break\n",
    "            A -= 1\n",
    "            B += 1\n",
    "\n",
    "Goldbach()"
   ]
  },
  {
   "cell_type": "markdown",
   "metadata": {},
   "source": [
    "답을 찾아보나?\n",
    "아니면 힌트만 찾아보나?\n",
    "어떤식으로 접근?\n",
    "생각은 어떻게 접근?\n",
    "\n",
    "풀이(문제푸는 아이디어)를 알면 구현 힌트만 찾아보고 아예 풀이가 생각이 안나면 그냥 답을 보는 수밖에 없다"
   ]
  },
  {
   "cell_type": "markdown",
   "metadata": {},
   "source": [
    "디버깅 한칸씩 내려가면서 문제 발견하고 직접 디버깅 하는거 연습하기"
   ]
  }
 ],
 "metadata": {
  "kernelspec": {
   "display_name": "Python 3",
   "language": "python",
   "name": "python3"
  },
  "language_info": {
   "codemirror_mode": {
    "name": "ipython",
    "version": 3
   },
   "file_extension": ".py",
   "mimetype": "text/x-python",
   "name": "python",
   "nbconvert_exporter": "python",
   "pygments_lexer": "ipython3",
   "version": "3.11.6"
  }
 },
 "nbformat": 4,
 "nbformat_minor": 2
}
